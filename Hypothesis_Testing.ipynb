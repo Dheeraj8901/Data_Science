{
  "nbformat": 4,
  "nbformat_minor": 0,
  "metadata": {
    "colab": {
      "provenance": []
    },
    "kernelspec": {
      "name": "python3",
      "display_name": "Python 3"
    },
    "language_info": {
      "name": "python"
    }
  },
  "cells": [
    {
      "cell_type": "markdown",
      "source": [
        "# ***chi-square***"
      ],
      "metadata": {
        "id": "pNStfWO47Vav"
      }
    },
    {
      "cell_type": "code",
      "execution_count": null,
      "metadata": {
        "id": "woi85BIFytBY"
      },
      "outputs": [],
      "source": [
        "#Importing the required libraries\n",
        "import pandas as pd\n",
        "from scipy.stats import chi2_contingency, chi2\n",
        "from IPython.display import display, Markdown"
      ]
    },
    {
      "cell_type": "code",
      "source": [
        "#Data\n",
        "observed_data=pd.DataFrame({'Smart Thermostat': [50, 80, 60, 30, 20],\n",
        "    'Smart Light': [70, 100, 90, 50, 50]\n",
        "},\n",
        " index=['Very Satisfied', 'Satisfied', 'Neutral', 'Unsatisfied', 'Very Unsatisfied'])\n",
        "\n",
        "# This cell creates an contigency table containing rows-> satisfaction levels,\n",
        "# coloumns-> device types, values-> no.of customers in each category.\n",
        "\n"
      ],
      "metadata": {
        "id": "Pr2Iyd1AywEK"
      },
      "execution_count": null,
      "outputs": []
    },
    {
      "cell_type": "code",
      "source": [
        "# hypothesis\n",
        "#H0 -> There is no association\n",
        "# H1 -> There is an association between the type of smart home devices purchased and the customer satisfaction level\n"
      ],
      "metadata": {
        "id": "m-I9SfWuywHK"
      },
      "execution_count": null,
      "outputs": []
    },
    {
      "cell_type": "code",
      "source": [
        "#chi-square stastics\n",
        "chi2_statistic, p_value, dof, expected =chi2_contingency(observed_data)"
      ],
      "metadata": {
        "id": "xRby317_ywNd"
      },
      "execution_count": null,
      "outputs": []
    },
    {
      "cell_type": "code",
      "source": [
        "#Determining critical value\n",
        "alpha = 0.05\n",
        "critical_value = stats.chi2.ppf(1-alpha, dof)"
      ],
      "metadata": {
        "id": "C9NwLCPYywQh"
      },
      "execution_count": null,
      "outputs": []
    },
    {
      "cell_type": "code",
      "source": [
        "# Decision\n",
        "Decision = \"Reject the Null Hypothesis\" if chi2_statistic > critical_value else \"Fail to Reject the Null Hypothesis\""
      ],
      "metadata": {
        "id": "wo3J6uvYywUQ"
      },
      "execution_count": null,
      "outputs": []
    },
    {
      "cell_type": "code",
      "source": [
        "#Results\n",
        "print(\"Observed frequencies:\")\n",
        "print(observed_data)\n",
        "print(\"\\nExpected frequencies (if H0 is true):\")\n",
        "print(pd.DataFrame(expected, columns=observed_data.columns, index=observed_data.index).round(4))\n",
        "print(f\"\\nChi-Square Statistic: {chi2_statistic:.4f}\")\n",
        "print(f\"Degrees of Freedom: {dof}\")\n",
        "print(f\"P-value: {p_value:.4f}\")\n",
        "print(f\"Critical Value: {critical_value:.4f}\")\n",
        "print(\"Decision:\", Decision)\n",
        "\n",
        "if Decision == \"Reject the Null Hypothesis\":\n",
        "    conclusion = \"Conclusion: There is a significant association between the type of smart home device purchased and the customer satisfaction level.\"\n",
        "else:\n",
        "    conclusion = \"Conclusion: There is no significant association between the type of smart home device purchased and the customer satisfaction level.\"\n",
        "\n",
        "display(Markdown(f\"**{conclusion}**\"))"
      ],
      "metadata": {
        "colab": {
          "base_uri": "https://localhost:8080/",
          "height": 423
        },
        "id": "WgRXHtEwywbx",
        "outputId": "a2d09254-f675-4c64-91db-fbe717cff638"
      },
      "execution_count": null,
      "outputs": [
        {
          "output_type": "stream",
          "name": "stdout",
          "text": [
            "Observed frequencies:\n",
            "                  Smart Thermostat  Smart Light\n",
            "Very Satisfied                  50           70\n",
            "Satisfied                       80          100\n",
            "Neutral                         60           90\n",
            "Unsatisfied                     30           50\n",
            "Very Unsatisfied                20           50\n",
            "\n",
            "Expected frequencies (if H0 is true):\n",
            "                  Smart Thermostat  Smart Light\n",
            "Very Satisfied                48.0         72.0\n",
            "Satisfied                     72.0        108.0\n",
            "Neutral                       60.0         90.0\n",
            "Unsatisfied                   32.0         48.0\n",
            "Very Unsatisfied              28.0         42.0\n",
            "\n",
            "Chi-Square Statistic: 5.6382\n",
            "Degrees of Freedom: 4\n",
            "P-value: 0.2278\n",
            "Critical Value: 9.4877\n",
            "Decision: Fail to Reject the Null Hypothesis\n"
          ]
        },
        {
          "output_type": "display_data",
          "data": {
            "text/plain": [
              "<IPython.core.display.Markdown object>"
            ],
            "text/markdown": "**Conclusion: There is no significant association between the type of smart home device purchased and the customer satisfaction level.**"
          },
          "metadata": {}
        }
      ]
    },
    {
      "cell_type": "markdown",
      "source": [
        "# ***Hypothesis Testing***"
      ],
      "metadata": {
        "id": "Fm9mKCVc6lt9"
      }
    },
    {
      "cell_type": "code",
      "source": [
        "# Hypothesis Testing for Weekly Operating Costs\n"
      ],
      "metadata": {
        "id": "r3QC8pL4ywfC"
      },
      "execution_count": null,
      "outputs": []
    },
    {
      "cell_type": "code",
      "source": [
        "#importing the libraries\n",
        "\n",
        "import math\n",
        "from scipy import stats\n",
        "from IPython.display import display, Markdown"
      ],
      "metadata": {
        "id": "ePi0pNihywid"
      },
      "execution_count": null,
      "outputs": []
    },
    {
      "cell_type": "code",
      "source": [
        "# Step 1: Given Data\n",
        "observed_mean = 3050\n",
        "avg_units = 600\n",
        "n = 25\n",
        "sd_units = 25\n",
        "unit_cost = 5\n",
        "fixed_component = 1000\n"
      ],
      "metadata": {
        "id": "NF5Z3RC6ywl1"
      },
      "execution_count": null,
      "outputs": []
    },
    {
      "cell_type": "code",
      "source": [
        "# Step 2: Hypotheses\n",
        "# H0: μ = Weekly operating cost is equal to the model prediction\n",
        "# H1: μ > Weekly operating cost is higher than the model prediction"
      ],
      "metadata": {
        "id": "Xe_MW4qc9WEA"
      },
      "execution_count": null,
      "outputs": []
    },
    {
      "cell_type": "code",
      "source": [
        "# Step 2: Calculate Theoretical Mean and Standard Deviation\n",
        "theoretical_mean = fixed_component + unit_cost * avg_units\n",
        "sd_weekly = unit_cost * sd_units"
      ],
      "metadata": {
        "id": "H0sEUqTTywo7"
      },
      "execution_count": null,
      "outputs": []
    },
    {
      "cell_type": "code",
      "source": [
        "# Step 3: Calculate Standard Error and Test Statistic\n",
        "std_error = sd_weekly / math.sqrt(n)\n",
        "z_statistic = (observed_mean - theoretical_mean) / std_error"
      ],
      "metadata": {
        "id": "hAOS8uxrywsT"
      },
      "execution_count": null,
      "outputs": []
    },
    {
      "cell_type": "code",
      "source": [
        "# Step 5: Determine Critical Value (one-tailed test, alpha = 0.05)\n",
        "alpha = 0.05\n",
        "z_critical = stats.norm.ppf(1 - alpha)"
      ],
      "metadata": {
        "id": "P36iEBRKywv1"
      },
      "execution_count": null,
      "outputs": []
    },
    {
      "cell_type": "code",
      "source": [
        "# Step 6: Make Decision\n",
        "if z_statistic > z_critical:\n",
        "    decision = \"Reject the null hypothesis\"\n",
        "    conclusion = \"Conclusion: Weekly operating costs are higher than the model prediction, as claimed by restaurant owners.\"\n",
        "else:\n",
        "    decision = \"Fail to reject the null hypothesis\"\n",
        "    conclusion = \"Conclusion: Weekly operating costs are equal to the model prediction, as claimed by restaurant owners.\"\n"
      ],
      "metadata": {
        "id": "N9T90gdUywza"
      },
      "execution_count": null,
      "outputs": []
    },
    {
      "cell_type": "code",
      "source": [
        "# Step 7: Display Results\n",
        "print(\"Observed sample mean =\", observed_mean)\n",
        "print(\"Theoretical mean (model) =\", theoretical_mean)\n",
        "print(\"Standard deviation of weekly cost =\", sd_weekly)\n",
        "print(\"Standard error =\", std_error)\n",
        "print(\"Test statistic (z) =\", z_statistic)\n",
        "print(\"Critical z value (alpha=0.05) =\", z_critical)\n",
        "print(\"Decision:\", decision)\n",
        "display(Markdown(f\"**{conclusion}**\"))"
      ],
      "metadata": {
        "id": "hWoMknq0yw2z",
        "colab": {
          "base_uri": "https://localhost:8080/",
          "height": 172
        },
        "outputId": "bdaa397b-1020-477f-a092-64787a82a07b"
      },
      "execution_count": null,
      "outputs": [
        {
          "output_type": "stream",
          "name": "stdout",
          "text": [
            "Observed sample mean = 3050\n",
            "Theoretical mean (model) = 4000\n",
            "Standard deviation of weekly cost = 125\n",
            "Standard error = 25.0\n",
            "Test statistic (z) = -38.0\n",
            "Critical z value (alpha=0.05) = 1.6448536269514722\n",
            "Decision: Fail to reject the null hypothesis\n"
          ]
        },
        {
          "output_type": "display_data",
          "data": {
            "text/plain": [
              "<IPython.core.display.Markdown object>"
            ],
            "text/markdown": "**Conclusion: Weekly operating costs are equal to the model prediction, as claimed by restaurant owners.**"
          },
          "metadata": {}
        }
      ]
    }
  ]
}