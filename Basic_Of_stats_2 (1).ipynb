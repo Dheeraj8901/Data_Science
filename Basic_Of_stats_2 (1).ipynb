{
  "nbformat": 4,
  "nbformat_minor": 0,
  "metadata": {
    "colab": {
      "provenance": []
    },
    "kernelspec": {
      "name": "python3",
      "display_name": "Python 3"
    },
    "language_info": {
      "name": "python"
    }
  },
  "cells": [
    {
      "cell_type": "code",
      "execution_count": null,
      "metadata": {
        "id": "Tpqz7YVVItRS"
      },
      "outputs": [],
      "source": [
        "#importing libraries\n",
        "import numpy as np\n",
        "import scipy.stats as stats"
      ]
    },
    {
      "cell_type": "code",
      "source": [
        "#Input Data: Durability in millions of characters\n",
        "data= [1.13, 1.55, 1.43, 0.92, 1.25, 1.36, 1.32, 0.85, 1.07, 1.48, 1.20, 1.33, 1.18, 1.22, 1.29]"
      ],
      "metadata": {
        "id": "XdlsCxh7IuWD"
      },
      "execution_count": null,
      "outputs": []
    },
    {
      "cell_type": "code",
      "source": [
        "n=len(data)\n",
        "print(f\"sample size of n: {n}\")"
      ],
      "metadata": {
        "colab": {
          "base_uri": "https://localhost:8080/"
        },
        "id": "jWvsgn3rIufD",
        "outputId": "940b8ab9-b346-4d5a-e055-e7dbf2de355b"
      },
      "execution_count": null,
      "outputs": [
        {
          "output_type": "stream",
          "name": "stdout",
          "text": [
            "sample size of n: 15\n"
          ]
        }
      ]
    },
    {
      "cell_type": "code",
      "source": [
        "  mean = np.mean(data)\n",
        "  print(f\" sample mean: {mean:.4f}\")"
      ],
      "metadata": {
        "colab": {
          "base_uri": "https://localhost:8080/"
        },
        "id": "q6BX-m9pIuka",
        "outputId": "ec8bed9a-9d72-423b-c505-d2d2d7b5db2a"
      },
      "execution_count": null,
      "outputs": [
        {
          "output_type": "stream",
          "name": "stdout",
          "text": [
            " sample mean: 1.2387\n"
          ]
        }
      ]
    },
    {
      "cell_type": "code",
      "source": [
        "std=np.std(data,ddof=1)\n",
        "print(f\"sample standard deviation: {std:.4f}\")"
      ],
      "metadata": {
        "colab": {
          "base_uri": "https://localhost:8080/"
        },
        "id": "oJFt9B3UIuns",
        "outputId": "7cb85aa5-235e-4d25-8f1b-f78642a8f799"
      },
      "execution_count": null,
      "outputs": [
        {
          "output_type": "stream",
          "name": "stdout",
          "text": [
            "sample standard deviation: 0.1932\n"
          ]
        }
      ]
    },
    {
      "cell_type": "code",
      "source": [
        "# 99% CI using t-distribution\n",
        "# Confidence level\n",
        "confidence = 0.99"
      ],
      "metadata": {
        "id": "wXXO4lfpIurb"
      },
      "execution_count": null,
      "outputs": []
    },
    {
      "cell_type": "code",
      "source": [
        "# t critical value\n",
        "t_critical = stats.t.ppf((1 + confidence) / 2, df=n-1)\n",
        "print(f\"t - critical value (df={n-1}): {t_critical:.4f}\")"
      ],
      "metadata": {
        "colab": {
          "base_uri": "https://localhost:8080/"
        },
        "id": "ebUsj5HyIuuq",
        "outputId": "e948b088-4c94-4a39-e28a-27e0ed53e86d"
      },
      "execution_count": null,
      "outputs": [
        {
          "output_type": "stream",
          "name": "stdout",
          "text": [
            "t - critical value (df=14): 2.9768\n"
          ]
        }
      ]
    },
    {
      "cell_type": "code",
      "source": [
        "# Margin of error\n",
        "margin_of_error = t_critical * (std / np.sqrt(n))\n",
        "print(f\"Margin of Error: {margin_of_error:.4f}\")"
      ],
      "metadata": {
        "colab": {
          "base_uri": "https://localhost:8080/"
        },
        "id": "WFlWMUikIu2q",
        "outputId": "be134f1c-60ad-41f3-8dba-b11cccf370e5"
      },
      "execution_count": null,
      "outputs": [
        {
          "output_type": "stream",
          "name": "stdout",
          "text": [
            "Margin of Error: 0.1485\n"
          ]
        }
      ]
    },
    {
      "cell_type": "code",
      "source": [
        "# Confidence Interval\n",
        "ci_lower = mean - margin_of_error\n",
        "ci_upper = mean + margin_of_error\n",
        "print(f\"99% Confidence Interval (using sample std): ({ci_lower:.4f}, {ci_upper:.4f})\")\n"
      ],
      "metadata": {
        "colab": {
          "base_uri": "https://localhost:8080/"
        },
        "id": "NZyA4s3FQcKM",
        "outputId": "23370eee-4c82-4f09-f1b7-95ead5457bd3"
      },
      "execution_count": null,
      "outputs": [
        {
          "output_type": "stream",
          "name": "stdout",
          "text": [
            "99% Confidence Interval (using sample std): (1.0902, 1.3871)\n"
          ]
        }
      ]
    },
    {
      "cell_type": "code",
      "source": [
        "# 99% CI using z-distribution\n",
        "# Known population standard deviation\n",
        "pop_std = 0.2"
      ],
      "metadata": {
        "id": "simID89HQcGz"
      },
      "execution_count": null,
      "outputs": []
    },
    {
      "cell_type": "code",
      "source": [
        "# z critical value for 99% confidence\n",
        "z_critical = stats.norm.ppf((1 + confidence) / 2)\n",
        "print(f\"z-critical value: {z_critical:.4f}\")"
      ],
      "metadata": {
        "colab": {
          "base_uri": "https://localhost:8080/"
        },
        "id": "LvP0hQapS4Z9",
        "outputId": "2c48d6b8-460d-4f4f-9d4c-19768935a307"
      },
      "execution_count": null,
      "outputs": [
        {
          "output_type": "stream",
          "name": "stdout",
          "text": [
            "z-critical value: 2.5758\n"
          ]
        }
      ]
    },
    {
      "cell_type": "code",
      "source": [
        "# Margin of error\n",
        "margin_of_error_known_sigma = z_critical * (pop_std / np.sqrt(n))\n",
        "print(f\"Margin of Error (known population std ): {margin_of_error_known_sigma:.4f}\")"
      ],
      "metadata": {
        "colab": {
          "base_uri": "https://localhost:8080/"
        },
        "id": "kL60vyJtTJE9",
        "outputId": "b833363c-889d-446f-c779-384e97b5aacf"
      },
      "execution_count": null,
      "outputs": [
        {
          "output_type": "stream",
          "name": "stdout",
          "text": [
            "Margin of Error (known population std ): 0.1330\n"
          ]
        }
      ]
    },
    {
      "cell_type": "code",
      "source": [
        "# Confidence Interval\n",
        "ci_lower_known_sigma = mean - margin_of_error_known_sigma\n",
        "ci_upper_known_sigma = mean + margin_of_error_known_sigma\n",
        "print(f\"99% Confidence Interval (known population std): ({ci_lower_known_sigma:.4f}, {ci_upper_known_sigma:.4f})\")\n"
      ],
      "metadata": {
        "colab": {
          "base_uri": "https://localhost:8080/"
        },
        "id": "0F7FAYZeTKOg",
        "outputId": "798c8422-8427-4bc9-b6c9-3a2383a61987"
      },
      "execution_count": null,
      "outputs": [
        {
          "output_type": "stream",
          "name": "stdout",
          "text": [
            "99% Confidence Interval (known population std): (1.1057, 1.3717)\n"
          ]
        }
      ]
    }
  ]
}