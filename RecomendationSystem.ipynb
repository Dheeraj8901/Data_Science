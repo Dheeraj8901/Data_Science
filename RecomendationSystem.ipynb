{
  "nbformat": 4,
  "nbformat_minor": 0,
  "metadata": {
    "colab": {
      "provenance": []
    },
    "kernelspec": {
      "name": "python3",
      "display_name": "Python 3"
    },
    "language_info": {
      "name": "python"
    }
  },
  "cells": [
    {
      "cell_type": "code",
      "source": [
        "# Step 1: Import required libraries\n",
        "import pandas as pd\n",
        "import numpy as np\n",
        "from sklearn.preprocessing import StandardScaler\n",
        "from sklearn.metrics.pairwise import cosine_similarity\n",
        "from sklearn.model_selection import train_test_split\n",
        "from sklearn.metrics import precision_score, recall_score, f1_score"
      ],
      "metadata": {
        "id": "I47WU6MrSvWl"
      },
      "execution_count": 1,
      "outputs": []
    },
    {
      "cell_type": "code",
      "source": [
        "# Step 2: Load the dataset\n",
        "anime_df = pd.read_csv('anime.csv')\n",
        "print(anime_df.head())"
      ],
      "metadata": {
        "colab": {
          "base_uri": "https://localhost:8080/"
        },
        "id": "a3gxms3eSvS3",
        "outputId": "795ee4d8-3ae8-400d-a415-f87021097435"
      },
      "execution_count": 2,
      "outputs": [
        {
          "output_type": "stream",
          "name": "stdout",
          "text": [
            "   anime_id                              name  \\\n",
            "0     32281                    Kimi no Na wa.   \n",
            "1      5114  Fullmetal Alchemist: Brotherhood   \n",
            "2     28977                          Gintama°   \n",
            "3      9253                       Steins;Gate   \n",
            "4      9969                     Gintama&#039;   \n",
            "\n",
            "                                               genre   type episodes  rating  \\\n",
            "0               Drama, Romance, School, Supernatural  Movie        1    9.37   \n",
            "1  Action, Adventure, Drama, Fantasy, Magic, Mili...     TV       64    9.26   \n",
            "2  Action, Comedy, Historical, Parody, Samurai, S...     TV       51    9.25   \n",
            "3                                   Sci-Fi, Thriller     TV       24    9.17   \n",
            "4  Action, Comedy, Historical, Parody, Samurai, S...     TV       51    9.16   \n",
            "\n",
            "   members  \n",
            "0   200630  \n",
            "1   793665  \n",
            "2   114262  \n",
            "3   673572  \n",
            "4   151266  \n"
          ]
        }
      ]
    },
    {
      "cell_type": "code",
      "source": [
        "# Step 3: Check dataset shape and missing values\n",
        "print('Shape of dataset:', anime_df.shape)\n",
        "print('Missing values in each column:\\n', anime_df.isna().sum())"
      ],
      "metadata": {
        "colab": {
          "base_uri": "https://localhost:8080/"
        },
        "id": "YasVcq4ySvP_",
        "outputId": "7827c044-9509-4d64-e0c4-b0072d8188ea"
      },
      "execution_count": 3,
      "outputs": [
        {
          "output_type": "stream",
          "name": "stdout",
          "text": [
            "Shape of dataset: (12294, 7)\n",
            "Missing values in each column:\n",
            " anime_id      0\n",
            "name          0\n",
            "genre        62\n",
            "type         25\n",
            "episodes      0\n",
            "rating      230\n",
            "members       0\n",
            "dtype: int64\n"
          ]
        }
      ]
    },
    {
      "cell_type": "code",
      "source": [
        "# Step 4: Handle missing values\n",
        "anime_df['rating'] = anime_df['rating'].fillna(anime_df['rating'].mean())\n",
        "anime_df['genre'] = anime_df['genre'].fillna('Unknown')\n",
        "anime_df['type'] = anime_df['type'].fillna('Unknown')\n",
        "print('Missing values after filling:\\n', anime_df.isna().sum())"
      ],
      "metadata": {
        "colab": {
          "base_uri": "https://localhost:8080/"
        },
        "id": "ZRZI_jlWSvNH",
        "outputId": "c6401cc5-46d9-4996-9b85-492020248a54"
      },
      "execution_count": 7,
      "outputs": [
        {
          "output_type": "stream",
          "name": "stdout",
          "text": [
            "Missing values after filling:\n",
            " anime_id    0\n",
            "name        0\n",
            "genre       0\n",
            "type        0\n",
            "episodes    0\n",
            "rating      0\n",
            "members     0\n",
            "dtype: int64\n"
          ]
        }
      ]
    },
    {
      "cell_type": "code",
      "source": [
        "# Step 5: Select important features\n",
        "working_df = anime_df[['name', 'genre', 'type', 'episodes', 'rating']].copy()"
      ],
      "metadata": {
        "id": "LHeFG7PdSvKR"
      },
      "execution_count": 5,
      "outputs": []
    },
    {
      "cell_type": "code",
      "source": [
        "# Step 6: Encode categorical values and fix numeric ones\n",
        "working_df['genre'] = working_df['genre'].astype('category').cat.codes\n",
        "working_df['type'] = working_df['type'].astype('category').cat.codes\n",
        "working_df['episodes'] = working_df['episodes'].replace('Unknown', np.nan)\n",
        "working_df['episodes'] = pd.to_numeric(working_df['episodes'], errors='coerce')\n",
        "working_df['episodes'] = working_df['episodes'].fillna(working_df['episodes'].median())\n",
        "print('Data after cleaning:\\n', working_df.head())"
      ],
      "metadata": {
        "colab": {
          "base_uri": "https://localhost:8080/"
        },
        "id": "bn5qKunnSvHd",
        "outputId": "5e9f42f7-2e50-450c-8ea5-af0727438fcb"
      },
      "execution_count": 9,
      "outputs": [
        {
          "output_type": "stream",
          "name": "stdout",
          "text": [
            "Data after cleaning:\n",
            "                                name  genre  type  episodes  rating\n",
            "0                    Kimi no Na wa.   2686     0       1.0    9.37\n",
            "1  Fullmetal Alchemist: Brotherhood    161     5      64.0    9.26\n",
            "2                          Gintama°    534     5      51.0    9.25\n",
            "3                       Steins;Gate   3240     5      24.0    9.17\n",
            "4                     Gintama&#039;    534     5      51.0    9.16\n"
          ]
        }
      ]
    },
    {
      "cell_type": "code",
      "source": [
        "  # Step 7: Normalize numeric columns\n",
        "scaler = StandardScaler()\n",
        "working_df[['episodes', 'rating']] = scaler.fit_transform(working_df[['episodes', 'rating']])\n",
        "print('After scaling:\\n', working_df.head())"
      ],
      "metadata": {
        "colab": {
          "base_uri": "https://localhost:8080/"
        },
        "id": "ygczxf_RSvEb",
        "outputId": "71f9b299-7314-4537-ed3c-06802cddce85"
      },
      "execution_count": 10,
      "outputs": [
        {
          "output_type": "stream",
          "name": "stdout",
          "text": [
            "After scaling:\n",
            "                                name  genre  type  episodes    rating\n",
            "0                    Kimi no Na wa.   2686     0 -0.239941  2.847535\n",
            "1  Fullmetal Alchemist: Brotherhood    161     5  1.122451  2.739380\n",
            "2                          Gintama°    534     5  0.841323  2.729547\n",
            "3                       Steins;Gate   3240     5  0.257440  2.650889\n",
            "4                     Gintama&#039;    534     5  0.841323  2.641057\n"
          ]
        }
      ]
    },
    {
      "cell_type": "code",
      "source": [
        "# Step 8: Compute cosine similarity between anime\n",
        "feature_cols = ['genre', 'type', 'episodes', 'rating']\n",
        "sim_matrix = cosine_similarity(working_df[feature_cols])\n",
        "print('Similarity matrix shape:', sim_matrix.shape)"
      ],
      "metadata": {
        "colab": {
          "base_uri": "https://localhost:8080/"
        },
        "id": "p3gafIcNSvBp",
        "outputId": "497fd72c-af13-4141-cbb6-f8dbca729330"
      },
      "execution_count": 11,
      "outputs": [
        {
          "output_type": "stream",
          "name": "stdout",
          "text": [
            "Similarity matrix shape: (12294, 12294)\n"
          ]
        }
      ]
    },
    {
      "cell_type": "code",
      "source": [
        "# Step 9: Function to recommend anime\n",
        "def recommend_similar(title, data_df=working_df, similarity=sim_matrix, top_k=5):\n",
        "  if title not in data_df['name'].values:\n",
        "    return f\"Title '{title}' not found in dataset.\"\n",
        "  idx = data_df[data_df['name'] == title].index[0]\n",
        "  scores = list(enumerate(similarity[idx]))\n",
        "  scores_sorted = sorted(scores, key=lambda x: x[1], reverse=True)\n",
        "  top_indices = [i for i, _ in scores_sorted[1:top_k+1]]\n",
        "  return data_df['name'].iloc[top_indices].tolist()\n",
        "\n",
        "\n",
        "# Example\n",
        "print('Recommendations for Fullmetal Alchemist: Brotherhood:')\n",
        "print(recommend_similar('Fullmetal Alchemist: Brotherhood'))"
      ],
      "metadata": {
        "colab": {
          "base_uri": "https://localhost:8080/"
        },
        "id": "AH3d_awzSu-u",
        "outputId": "cf8495fc-3c41-4f74-b7f3-3bc77156a576"
      },
      "execution_count": 13,
      "outputs": [
        {
          "output_type": "stream",
          "name": "stdout",
          "text": [
            "Recommendations for Fullmetal Alchemist: Brotherhood:\n",
            "['Berserk', 'Claymore', 'Arslan Senki (TV)', 'Wolf&#039;s Rain', 'Lupin III (2015)']\n"
          ]
        }
      ]
    },
    {
      "cell_type": "code",
      "source": [
        "# Step 10: Split into training and test sets for evaluation\n",
        "train_df, test_df = train_test_split(working_df, test_size=0.2, random_state=42)\n",
        "sim_matrix_train = cosine_similarity(train_df[feature_cols])\n",
        "print('Train set size:', train_df.shape)"
      ],
      "metadata": {
        "colab": {
          "base_uri": "https://localhost:8080/"
        },
        "id": "vIGWxy5KSu7m",
        "outputId": "d213cff8-f99a-40e7-c9ba-e43e88249152"
      },
      "execution_count": 14,
      "outputs": [
        {
          "output_type": "stream",
          "name": "stdout",
          "text": [
            "Train set size: (9835, 5)\n"
          ]
        }
      ]
    },
    {
      "cell_type": "code",
      "source": [
        "# Step 11: Evaluate system by matching genres\n",
        "def evaluate_genre_match(ref_df, similarity_matrix, top_k=5):\n",
        "  y_true, y_pred = [], []\n",
        "  for title in ref_df['name']:\n",
        "    idx = ref_df.index.get_loc(ref_df[ref_df['name'] == title].index[0])\n",
        "    scores = list(enumerate(similarity_matrix[idx]))\n",
        "    scores = sorted(scores, key=lambda x: x[1], reverse=True)\n",
        "    rec_indices = [i for i, _ in scores[1:top_k+1]]\n",
        "    target_genre = ref_df.iloc[idx]['genre']\n",
        "    for rec_i in rec_indices:\n",
        "      rec_genre = ref_df.iloc[rec_i]['genre']\n",
        "      y_true.append(1)\n",
        "      y_pred.append(1 if rec_genre == target_genre else 0)\n",
        "  print('Precision:', precision_score(y_true, y_pred, zero_division=0))\n",
        "  print('Recall:', recall_score(y_true, y_pred, zero_division=0))\n",
        "  print('F1 Score:', f1_score(y_true, y_pred, zero_division=0))\n",
        "\n",
        "\n",
        "# Evaluate\n",
        "evaluate_genre_match(train_df.reset_index(drop=True), sim_matrix_train)"
      ],
      "metadata": {
        "colab": {
          "base_uri": "https://localhost:8080/"
        },
        "id": "xu-JYCMJSu4a",
        "outputId": "a505e787-ce39-4c31-ed42-cc24ac718d45"
      },
      "execution_count": 17,
      "outputs": [
        {
          "output_type": "stream",
          "name": "stdout",
          "text": [
            "Precision: 1.0\n",
            "Recall: 0.17826131164209455\n",
            "F1 Score: 0.30258366269135845\n"
          ]
        }
      ]
    },
    {
      "cell_type": "markdown",
      "source": [
        "Current system is limited because genres and types are encoded as integers, and evaluation only checks exact genre match, so precision and recall are low.\n",
        "\n",
        "Improvement: Use one-hot or multi-label encoding for genres/types and consider weighting features or overlapping genres to boost recommendation quality."
      ],
      "metadata": {
        "id": "HHM8MyJXWs7l"
      }
    },
    {
      "cell_type": "markdown",
      "source": [
        "# Interview Questions:\n",
        "\n",
        " 1. Can you explain the difference between user-based and item-based collaborative filtering?\n",
        "\n",
        "- User-based CF: Recommends items to a user based on what similar users liked. Focuses on user-to-user similarity.\n",
        "\n",
        "- Item-based CF: Recommends items similar to what the user already liked. Focuses on item-to-item similarity."
      ],
      "metadata": {
        "id": "OsOBSY_7XCti"
      }
    },
    {
      "cell_type": "markdown",
      "source": [
        " 2. What is collaborative filtering, and how does it work? Give each in 2 bullet points?\n",
        "\n",
        "- It predicts a user’s preferences by analyzing past behavior or ratings from multiple users.\n",
        "- Works by finding patterns or similarities between users or items to generate recommendations."
      ],
      "metadata": {
        "id": "MvrlvKoJXMaA"
      }
    }
  ]
}